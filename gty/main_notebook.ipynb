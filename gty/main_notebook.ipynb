{
 "cells": [
  {
   "cell_type": "code",
   "execution_count": 1,
   "metadata": {},
   "outputs": [
    {
     "name": "stdout",
     "output_type": "stream",
     "text": [
      "vertex_cpu:\n",
      "[70, 40, 20, 30, 50, 40, 70, 70, 60, 20, 80, 60]\n",
      "edge weight:\n",
      "[10, 10, 4, 10, 6, 10, 10, 8, 7, 5, 6, 6, 7, 2, 4, 5, 7, 6]\n",
      "communication_cpu\n",
      "[94.0, 56.0, 40.0, 45.0, 55.0, 44.0, 82.0, 79.0, 65.0, 27.0, 86.0, 60.0]\n",
      "process\n",
      "[ 26.4  17.6  22.   16.5   5.5   4.4  13.2   9.9   5.5   7.7   6.6   0. ]\n",
      "iso_value\n",
      "[[ 0.43014202  0.28281024  0.55604382  0.71342971  0.51506163  0.43607225\n",
      "   0.85810419  0.39694044  0.65549338  0.63372081  0.47935326  0.93720461]\n",
      " [ 0.28281024  0.8683005   0.37028709  0.37367505  0.62810372  0.68651986\n",
      "   0.70301951  0.58855052  0.42044558  0.65405181  0.3526735   0.55531528]\n",
      " [ 0.55604382  0.37028709  0.49819244  0.30163873  0.51179592  0.22268769\n",
      "   0.3443684   0.43696298  0.21940223  0.4952865   0.76053118  0.86124025]\n",
      " [ 0.71342971  0.37367505  0.30163873  0.07466995  0.67829099  0.54991168\n",
      "   0.6830869   0.25857962  0.70485014  0.68856116  0.30134994  0.52789202]\n",
      " [ 0.51506163  0.62810372  0.51179592  0.67829099  0.25434258  0.06371955\n",
      "   0.51720505  0.08275152  0.20236794  0.32157856  0.29961288  0.50492989]\n",
      " [ 0.43607225  0.68651986  0.22268769  0.54991168  0.06371955  0.15490286\n",
      "   0.40815197  0.50795724  0.46035051  0.65464831  0.6732983   0.45295042]\n",
      " [ 0.85810419  0.70301951  0.3443684   0.6830869   0.51720505  0.40815197\n",
      "   0.01415374  0.44133846  0.42194915  0.58905855  0.41738618  0.40942998]\n",
      " [ 0.39694044  0.58855052  0.43696298  0.25857962  0.08275152  0.50795724\n",
      "   0.44133846  0.33975104  0.24077576  0.34402459  0.82766452  0.60953606]\n",
      " [ 0.65549338  0.42044558  0.21940223  0.70485014  0.20236794  0.46035051\n",
      "   0.42194915  0.24077576  0.93285532  0.68826145  0.24600208  0.61140788]\n",
      " [ 0.63372081  0.65405181  0.4952865   0.68856116  0.32157856  0.65464831\n",
      "   0.58905855  0.34402459  0.68826145  0.60135095  0.63086972  0.18243923]\n",
      " [ 0.47935326  0.3526735   0.76053118  0.30134994  0.29961288  0.6732983\n",
      "   0.41738618  0.82766452  0.24600208  0.63086972  0.08763523  0.55989093]\n",
      " [ 0.93720461  0.55531528  0.86124025  0.52789202  0.50492989  0.45295042\n",
      "   0.40942998  0.60953606  0.61140788  0.18243923  0.55989093  0.89661053]]\n",
      "[0, 1, 3, 7] [2, 4, 5, 6, 8, 9, 10, 11]\n"
     ]
    },
    {
     "ename": "IndexError",
     "evalue": "list index out of range",
     "output_type": "error",
     "traceback": [
      "\u001b[0;31m---------------------------------------------------------------------------\u001b[0m",
      "\u001b[0;31mIndexError\u001b[0m                                Traceback (most recent call last)",
      "\u001b[0;32m~/Documents/Wang@Lab/EC-framework/gty/main.py\u001b[0m in \u001b[0;36m<module>\u001b[0;34m\u001b[0m\n\u001b[1;32m     38\u001b[0m \u001b[0;34m\u001b[0m\u001b[0m\n\u001b[1;32m     39\u001b[0m \u001b[0;32mif\u001b[0m \u001b[0m__name__\u001b[0m \u001b[0;34m==\u001b[0m \u001b[0;34m'__main__'\u001b[0m\u001b[0;34m:\u001b[0m\u001b[0;34m\u001b[0m\u001b[0;34m\u001b[0m\u001b[0m\n\u001b[0;32m---> 40\u001b[0;31m     \u001b[0mmain\u001b[0m\u001b[0;34m(\u001b[0m\u001b[0;34m)\u001b[0m\u001b[0;34m\u001b[0m\u001b[0;34m\u001b[0m\u001b[0m\n\u001b[0m",
      "\u001b[0;32m~/Documents/Wang@Lab/EC-framework/gty/main.py\u001b[0m in \u001b[0;36mmain\u001b[0;34m()\u001b[0m\n\u001b[1;32m     18\u001b[0m     \u001b[0minit_minLevel\u001b[0m\u001b[0;34m(\u001b[0m\u001b[0mvertex_num\u001b[0m\u001b[0;34m)\u001b[0m\u001b[0;34m\u001b[0m\u001b[0;34m\u001b[0m\u001b[0m\n\u001b[1;32m     19\u001b[0m     \u001b[0;32mwhile\u001b[0m \u001b[0mcut\u001b[0m \u001b[0;34m>\u001b[0m \u001b[0mM\u001b[0m\u001b[0;34m:\u001b[0m\u001b[0;34m\u001b[0m\u001b[0;34m\u001b[0m\u001b[0m\n\u001b[0;32m---> 20\u001b[0;31m         \u001b[0mu\u001b[0m\u001b[0;34m,\u001b[0m \u001b[0mv\u001b[0m \u001b[0;34m=\u001b[0m \u001b[0mminLevel\u001b[0m\u001b[0;34m(\u001b[0m\u001b[0mgraph\u001b[0m\u001b[0;34m,\u001b[0m \u001b[0mS\u001b[0m\u001b[0;34m,\u001b[0m \u001b[0mT\u001b[0m\u001b[0;34m,\u001b[0m \u001b[0;36m0\u001b[0m\u001b[0;34m,\u001b[0m \u001b[0mvertex_num\u001b[0m\u001b[0;34m-\u001b[0m\u001b[0;36m1\u001b[0m\u001b[0;34m)\u001b[0m\u001b[0;34m\u001b[0m\u001b[0;34m\u001b[0m\u001b[0m\n\u001b[0m\u001b[1;32m     21\u001b[0m         \u001b[0;32mif\u001b[0m \u001b[0mu\u001b[0m \u001b[0;34m==\u001b[0m \u001b[0;36m0\u001b[0m \u001b[0;32mand\u001b[0m \u001b[0mv\u001b[0m \u001b[0;34m==\u001b[0m \u001b[0;36m0\u001b[0m\u001b[0;34m:\u001b[0m\u001b[0;34m\u001b[0m\u001b[0;34m\u001b[0m\u001b[0m\n\u001b[1;32m     22\u001b[0m             \u001b[0mprint\u001b[0m\u001b[0;34m(\u001b[0m\u001b[0;34m'MinLevel Heuristic Failed\\n'\u001b[0m\u001b[0;34m)\u001b[0m\u001b[0;34m\u001b[0m\u001b[0;34m\u001b[0m\u001b[0m\n",
      "\u001b[0;32m~/Documents/Wang@Lab/EC-framework/gty/minlevel.py\u001b[0m in \u001b[0;36mminLevel\u001b[0;34m(graph, S, T, s, t)\u001b[0m\n\u001b[1;32m     65\u001b[0m \u001b[0;34m\u001b[0m\u001b[0m\n\u001b[1;32m     66\u001b[0m \u001b[0;32mdef\u001b[0m \u001b[0mminLevel\u001b[0m\u001b[0;34m(\u001b[0m\u001b[0mgraph\u001b[0m\u001b[0;34m,\u001b[0m \u001b[0mS\u001b[0m\u001b[0;34m,\u001b[0m \u001b[0mT\u001b[0m\u001b[0;34m,\u001b[0m \u001b[0ms\u001b[0m\u001b[0;34m,\u001b[0m \u001b[0mt\u001b[0m\u001b[0;34m)\u001b[0m\u001b[0;34m:\u001b[0m\u001b[0;34m\u001b[0m\u001b[0;34m\u001b[0m\u001b[0m\n\u001b[0;32m---> 67\u001b[0;31m     \u001b[0mtopo\u001b[0m \u001b[0;34m=\u001b[0m \u001b[0mtoposort\u001b[0m\u001b[0;34m(\u001b[0m\u001b[0mgraph\u001b[0m\u001b[0;34m,\u001b[0m \u001b[0ms\u001b[0m\u001b[0;34m,\u001b[0m \u001b[0mt\u001b[0m\u001b[0;34m)\u001b[0m\u001b[0;34m\u001b[0m\u001b[0;34m\u001b[0m\u001b[0m\n\u001b[0m\u001b[1;32m     68\u001b[0m     \u001b[0mtop\u001b[0m \u001b[0;34m=\u001b[0m \u001b[0mgetTopLevel\u001b[0m\u001b[0;34m(\u001b[0m\u001b[0mgraph\u001b[0m\u001b[0;34m,\u001b[0m \u001b[0mtopo\u001b[0m\u001b[0;34m)\u001b[0m\u001b[0;34m\u001b[0m\u001b[0;34m\u001b[0m\u001b[0m\n\u001b[1;32m     69\u001b[0m     \u001b[0mbottom\u001b[0m \u001b[0;34m=\u001b[0m \u001b[0mgetBottomLevel\u001b[0m\u001b[0;34m(\u001b[0m\u001b[0mgraph\u001b[0m\u001b[0;34m,\u001b[0m \u001b[0mtopo\u001b[0m\u001b[0;34m)\u001b[0m\u001b[0;34m\u001b[0m\u001b[0;34m\u001b[0m\u001b[0m\n",
      "\u001b[0;32m~/Documents/Wang@Lab/EC-framework/gty/minlevel.py\u001b[0m in \u001b[0;36mtoposort\u001b[0;34m(graph, s, t)\u001b[0m\n\u001b[1;32m     12\u001b[0m         \u001b[0;32mfor\u001b[0m \u001b[0mj\u001b[0m\u001b[0;34m,\u001b[0m \u001b[0my\u001b[0m \u001b[0;32min\u001b[0m \u001b[0menumerate\u001b[0m\u001b[0;34m(\u001b[0m\u001b[0mx\u001b[0m\u001b[0;34m)\u001b[0m\u001b[0;34m:\u001b[0m\u001b[0;34m\u001b[0m\u001b[0;34m\u001b[0m\u001b[0m\n\u001b[1;32m     13\u001b[0m             \u001b[0;32mif\u001b[0m \u001b[0my\u001b[0m \u001b[0;34m!=\u001b[0m \u001b[0;34m-\u001b[0m\u001b[0;36m1\u001b[0m\u001b[0;34m:\u001b[0m\u001b[0;34m\u001b[0m\u001b[0;34m\u001b[0m\u001b[0m\n\u001b[0;32m---> 14\u001b[0;31m                 \u001b[0mind\u001b[0m\u001b[0;34m[\u001b[0m\u001b[0mj\u001b[0m\u001b[0;34m]\u001b[0m \u001b[0;34m=\u001b[0m \u001b[0mind\u001b[0m\u001b[0;34m[\u001b[0m\u001b[0mj\u001b[0m\u001b[0;34m]\u001b[0m \u001b[0;34m+\u001b[0m \u001b[0;36m1\u001b[0m\u001b[0;34m\u001b[0m\u001b[0;34m\u001b[0m\u001b[0m\n\u001b[0m\u001b[1;32m     15\u001b[0m \u001b[0;34m\u001b[0m\u001b[0m\n\u001b[1;32m     16\u001b[0m     \u001b[0mq\u001b[0m\u001b[0;34m.\u001b[0m\u001b[0mput\u001b[0m\u001b[0;34m(\u001b[0m\u001b[0ms\u001b[0m\u001b[0;34m)\u001b[0m\u001b[0;34m\u001b[0m\u001b[0;34m\u001b[0m\u001b[0m\n",
      "\u001b[0;31mIndexError\u001b[0m: list index out of range"
     ]
    }
   ],
   "source": [
    "%run main"
   ]
  },
  {
   "cell_type": "code",
   "execution_count": null,
   "metadata": {},
   "outputs": [],
   "source": []
  }
 ],
 "metadata": {
  "kernelspec": {
   "display_name": "Python 3",
   "language": "python",
   "name": "python3"
  },
  "language_info": {
   "codemirror_mode": {
    "name": "ipython",
    "version": 3
   },
   "file_extension": ".py",
   "mimetype": "text/x-python",
   "name": "python",
   "nbconvert_exporter": "python",
   "pygments_lexer": "ipython3",
   "version": "3.6.7"
  }
 },
 "nbformat": 4,
 "nbformat_minor": 2
}
