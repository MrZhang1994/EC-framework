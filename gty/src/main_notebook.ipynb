{
 "cells": [
  {
   "cell_type": "code",
   "execution_count": 1,
   "metadata": {
    "scrolled": false
   },
   "outputs": [
    {
     "name": "stderr",
     "output_type": "stream",
     "text": [
      "INFO:root:------- Tasks -------\n",
      "INFO:root: TASK id: 0, succ: [1], pred: [], avg_comp_cost: 0, ranku: 9999, rankd: 0\n",
      "INFO:root: TASK id: 1, succ: [8, 2, 3], pred: [0], avg_comp_cost: 54.0, ranku: 485.0, rankd: 0\n",
      "INFO:root: TASK id: 2, succ: [3, 4], pred: [1], avg_comp_cost: 44.0, ranku: 431.0, rankd: 54.0\n",
      "INFO:root: TASK id: 3, succ: [8, 5, 6], pred: [1, 2], avg_comp_cost: 98.0, ranku: 387.0, rankd: 98.0\n",
      "INFO:root: TASK id: 4, succ: [8, 7], pred: [2], avg_comp_cost: 43.0, ranku: 268.0, rankd: 98.0\n",
      "INFO:root: TASK id: 5, succ: [9], pred: [3, 7], avg_comp_cost: 57.0, ranku: 145.0, rankd: 221.0\n",
      "INFO:root: TASK id: 6, succ: [8, 12], pred: [3], avg_comp_cost: 82.0, ranku: 289.0, rankd: 196.0\n",
      "INFO:root: TASK id: 7, succ: [10, 5], pred: [4], avg_comp_cost: 80.0, ranku: 225.0, rankd: 141.0\n",
      "INFO:root: TASK id: 8, succ: [10, 11], pred: [1, 3, 4, 6], avg_comp_cost: 109.0, ranku: 207.0, rankd: 278.0\n",
      "INFO:root: TASK id: 9, succ: [12], pred: [5], avg_comp_cost: 28.0, ranku: 88.0, rankd: 278.0\n",
      "INFO:root: TASK id: 10, succ: [12], pred: [7, 8], avg_comp_cost: 37.0, ranku: 97.0, rankd: 387.0\n",
      "INFO:root: TASK id: 11, succ: [12], pred: [8], avg_comp_cost: 38.0, ranku: 98.0, rankd: 387.0\n",
      "INFO:root: TASK id: 12, succ: [], pred: [6, 9, 10, 11], avg_comp_cost: 60.0, ranku: 60.0, rankd: 425.0\n",
      "INFO:root:--------------------\n",
      "INFO:root:task scheduling order: [0, 1, 2, 3, 6, 4, 7, 8, 5, 11, 10, 9, 12]\n",
      "INFO:root:tasks on processor 0: [{0: (0, 0)}, {1: (0, 54.0)}, {2: (54.0, 98.0)}, {3: (98.0, 196.0)}, {6: (196.0, 278.0)}, {8: (278.0, 387.0)}, {11: (387.0, 425.0)}, {12: (425.0, 485.0)}]\n",
      "INFO:root:tasks on processor 1: [{4: (98.0, 141.0)}, {7: (141.0, 221.0)}, {5: (221.0, 278.0)}, {10: (387.0, 424.0)}]\n",
      "INFO:root:tasks on processor 2: [{9: (278.0, 306.0)}]\n",
      "INFO:root:makespan: 485.0\n"
     ]
    },
    {
     "name": "stdout",
     "output_type": "stream",
     "text": [
      "vertex_cpu:\n",
      "[40, 30, 80, 30, 50, 80, 70, 100, 20, 30, 30, 60]\n",
      "edge weight:\n",
      "[3, 8, 3, 8, 6, 10, 8, 10, 3, 7, 7, 3, 7, 2, 2, 8, 7, 8]\n",
      "communication_cpu\n",
      "[54.0, 44.0, 98.0, 43.0, 57.0, 82.0, 80.0, 109.0, 28.0, 37.0, 38.0, 60.0]\n",
      "process\n",
      "[ 15.4  15.4  19.8  14.3   7.7   2.2  11.    9.9   8.8   7.7   8.8   0. ]\n",
      "iso_value\n",
      "[[ 0.07576257  0.86631585  0.91759209  0.31809568  0.58352377  0.69690385\n",
      "   0.69396173  0.79895806  0.25544072  0.27394217  0.19926632  0.56229816]\n",
      " [ 0.86631585  0.4662845   0.54128844  0.22004509  0.52971199  0.66372249\n",
      "   0.18785387  0.67719149  0.71458875  0.60875334  0.68905824  0.54551697]\n",
      " [ 0.91759209  0.54128844  0.00821724  0.46122813  0.84512302  0.46291539\n",
      "   0.28882299  0.16664663  0.2529125   0.51259314  0.29941812  0.65467433]\n",
      " [ 0.31809568  0.22004509  0.46122813  0.4347133   0.5538132   0.40561506\n",
      "   0.73879082  0.26048176  0.63468373  0.92959154  0.65455887  0.29733549]\n",
      " [ 0.58352377  0.52971199  0.84512302  0.5538132   0.89567195  0.14401901\n",
      "   0.33877381  0.30989581  0.41161842  0.32587696  0.17583452  0.33291802]\n",
      " [ 0.69690385  0.66372249  0.46291539  0.40561506  0.14401901  0.69776848\n",
      "   0.5837041   0.50521108  0.58806665  0.76660727  0.44316808  0.619436  ]\n",
      " [ 0.69396173  0.18785387  0.28882299  0.73879082  0.33877381  0.5837041\n",
      "   0.01369841  0.51044324  0.44870429  0.59319338  0.57681979  0.68535729]\n",
      " [ 0.79895806  0.67719149  0.16664663  0.26048176  0.30989581  0.50521108\n",
      "   0.51044324  0.04720611  0.27031608  0.32183536  0.46836598  0.56062949]\n",
      " [ 0.25544072  0.71458875  0.2529125   0.63468373  0.41161842  0.58806665\n",
      "   0.44870429  0.27031608  0.39546302  0.4888658   0.56820616  0.31764884]\n",
      " [ 0.27394217  0.60875334  0.51259314  0.92959154  0.32587696  0.76660727\n",
      "   0.59319338  0.32183536  0.4888658   0.60240394  0.38206758  0.17299239]\n",
      " [ 0.19926632  0.68905824  0.29941812  0.65455887  0.17583452  0.44316808\n",
      "   0.57681979  0.46836598  0.56820616  0.38206758  0.28424655  0.41560384]\n",
      " [ 0.56229816  0.54551697  0.65467433  0.29733549  0.33291802  0.619436\n",
      "   0.68535729  0.56062949  0.31764884  0.17299239  0.41560384  0.34258546]]\n",
      "[0, 1, 3, 7] [2, 4, 5, 6, 8, 9, 10, 11]\n",
      "Edge (2, 7) is updated\n",
      "\n",
      "[0, 1, 2, 3, 7] [4, 5, 6, 8, 9, 10, 11]\n",
      "Edge (5, 7) is updated\n",
      "\n",
      "[[ -1.   3.   8.  -1.  -1.  -1.  -1.   3.  -1.  -1.  -1.  -1.]\n",
      " [ -1.  -1.   8.   6.  -1.  -1.  -1.  -1.  -1.  -1.  -1.  -1.]\n",
      " [ -1.  -1.  -1.  -1.  10.   8.  -1.   0.  -1.  -1.  -1.  -1.]\n",
      " [ -1.  -1.  -1.  -1.  -1.  -1.  10.   3.  -1.  -1.  -1.  -1.]\n",
      " [ -1.  -1.  -1.  -1.  -1.  -1.  -1.  -1.   7.  -1.  -1.  -1.]\n",
      " [ -1.  -1.  -1.  -1.  -1.  -1.  -1.   0.  -1.  -1.  -1.   2.]\n",
      " [ -1.  -1.  -1.  -1.   7.  -1.  -1.  -1.  -1.   3.  -1.  -1.]\n",
      " [ -1.  -1.  -1.  -1.  -1.  -1.  -1.  -1.  -1.   7.   2.  -1.]\n",
      " [ -1.  -1.  -1.  -1.  -1.  -1.  -1.  -1.  -1.  -1.  -1.   8.]\n",
      " [ -1.  -1.  -1.  -1.  -1.  -1.  -1.  -1.  -1.  -1.  -1.   7.]\n",
      " [ -1.  -1.  -1.  -1.  -1.  -1.  -1.  -1.  -1.  -1.  -1.   8.]\n",
      " [ -1.  -1.  -1.  -1.  -1.  -1.  -1.  -1.  -1.  -1.  -1.  -1.]]\n",
      "{1: {8, 2, 3}, 2: {3, 4}, 3: {8, 5, 6}, 4: {8, 7}, 5: {9}, 6: {8, 12}, 7: {10, 5}, 8: {10, 11}, 9: {12}, 10: {12}, 11: {12}, 12: set()}\n",
      "Vc+Vp:\n",
      "[2, 8, 10, 11, 12] [0, 1, 3, 4, 7, 6, 5, 9]\n",
      "forward:\n",
      "640.4\n",
      "{0: {2, 3, 4}, 1: {8, 10, 11}, 2: {0, 1, 12, 7}, 3: {9, 5, 6}}\n",
      "Vc+Vp:\n",
      "[12, 11, 10, 8, 2] [9, 5, 6, 7, 3, 4, 1, 0]\n",
      "backward:\n",
      "655.2\n",
      "{0: {10, 11, 12}, 1: {8, 3, 6}, 2: {0, 1, 2, 9}, 3: {4, 5, 7}}\n",
      "in order:\n"
     ]
    },
    {
     "ename": "KeyError",
     "evalue": "4",
     "output_type": "error",
     "traceback": [
      "\u001b[0;31m---------------------------------------------------------------------------\u001b[0m",
      "\u001b[0;31mKeyError\u001b[0m                                  Traceback (most recent call last)",
      "\u001b[0;32m~/Documents/Wang@Lab/EC-framework/gty/src/main.py\u001b[0m in \u001b[0;36m<module>\u001b[0;34m\u001b[0m\n\u001b[1;32m     70\u001b[0m \u001b[0;34m\u001b[0m\u001b[0m\n\u001b[1;32m     71\u001b[0m \u001b[0;32mif\u001b[0m \u001b[0m__name__\u001b[0m \u001b[0;34m==\u001b[0m \u001b[0;34m'__main__'\u001b[0m\u001b[0;34m:\u001b[0m\u001b[0;34m\u001b[0m\u001b[0;34m\u001b[0m\u001b[0m\n\u001b[0;32m---> 72\u001b[0;31m     \u001b[0mmain\u001b[0m\u001b[0;34m(\u001b[0m\u001b[0;34m)\u001b[0m\u001b[0;34m\u001b[0m\u001b[0;34m\u001b[0m\u001b[0m\n\u001b[0m",
      "\u001b[0;32m~/Documents/Wang@Lab/EC-framework/gty/src/main.py\u001b[0m in \u001b[0;36mmain\u001b[0;34m()\u001b[0m\n\u001b[1;32m     50\u001b[0m     \u001b[0mr_dag\u001b[0m\u001b[0;34m,\u001b[0m \u001b[0mcpath\u001b[0m\u001b[0;34m,\u001b[0m \u001b[0mindex\u001b[0m\u001b[0;34m,\u001b[0m \u001b[0mcont\u001b[0m\u001b[0;34m,\u001b[0m \u001b[0mbridge_tasks\u001b[0m\u001b[0;34m,\u001b[0m \u001b[0mnew_tasks\u001b[0m\u001b[0;34m,\u001b[0m \u001b[0mnew_processors\u001b[0m \u001b[0;34m=\u001b[0m \u001b[0mcontainerize\u001b[0m\u001b[0;34m(\u001b[0m\u001b[0mdag\u001b[0m\u001b[0;34m,\u001b[0m \u001b[0mprocessors\u001b[0m\u001b[0;34m,\u001b[0m \u001b[0mtasks\u001b[0m\u001b[0;34m,\u001b[0m \u001b[0morder\u001b[0m\u001b[0;34m,\u001b[0m \u001b[0;34m'inorder'\u001b[0m\u001b[0;34m,\u001b[0m \u001b[0;36m2\u001b[0m\u001b[0;34m)\u001b[0m\u001b[0;34m\u001b[0m\u001b[0;34m\u001b[0m\u001b[0m\n\u001b[1;32m     51\u001b[0m     \u001b[0mprint\u001b[0m\u001b[0;34m(\u001b[0m\u001b[0;34m'in order:'\u001b[0m\u001b[0;34m)\u001b[0m\u001b[0;34m\u001b[0m\u001b[0;34m\u001b[0m\u001b[0m\n\u001b[0;32m---> 52\u001b[0;31m     \u001b[0mdraw\u001b[0m\u001b[0;34m.\u001b[0m\u001b[0mdraw_canvas\u001b[0m\u001b[0;34m(\u001b[0m\u001b[0;34m[\u001b[0m\u001b[0;34m(\u001b[0m\u001b[0mx\u001b[0m\u001b[0;34m.\u001b[0m\u001b[0mid\u001b[0m\u001b[0;34m,\u001b[0m \u001b[0mround\u001b[0m\u001b[0;34m(\u001b[0m\u001b[0mx\u001b[0m\u001b[0;34m.\u001b[0m\u001b[0mast\u001b[0m\u001b[0;34m,\u001b[0m \u001b[0;36m1\u001b[0m\u001b[0;34m)\u001b[0m\u001b[0;34m,\u001b[0m \u001b[0mround\u001b[0m\u001b[0;34m(\u001b[0m\u001b[0mx\u001b[0m\u001b[0;34m.\u001b[0m\u001b[0maft\u001b[0m\u001b[0;34m,\u001b[0m \u001b[0;36m1\u001b[0m\u001b[0;34m)\u001b[0m\u001b[0;34m,\u001b[0m \u001b[0mx\u001b[0m\u001b[0;34m.\u001b[0m\u001b[0mprocessor\u001b[0m\u001b[0;34m)\u001b[0m \u001b[0;32mfor\u001b[0m \u001b[0mx\u001b[0m \u001b[0;32min\u001b[0m \u001b[0mnew_tasks\u001b[0m\u001b[0;34m]\u001b[0m\u001b[0;34m,\u001b[0m \u001b[0mcont\u001b[0m\u001b[0;34m,\u001b[0m \u001b[0;34m'inorder.png'\u001b[0m\u001b[0;34m)\u001b[0m\u001b[0;34m\u001b[0m\u001b[0;34m\u001b[0m\u001b[0m\n\u001b[0m\u001b[1;32m     53\u001b[0m     \u001b[0mprint\u001b[0m\u001b[0;34m(\u001b[0m\u001b[0mnew_tasks\u001b[0m\u001b[0;34m[\u001b[0m\u001b[0mvertex_num\u001b[0m\u001b[0;34m]\u001b[0m\u001b[0;34m.\u001b[0m\u001b[0maft\u001b[0m\u001b[0;34m)\u001b[0m\u001b[0;34m\u001b[0m\u001b[0;34m\u001b[0m\u001b[0m\n\u001b[1;32m     54\u001b[0m     \u001b[0mprint\u001b[0m\u001b[0;34m(\u001b[0m\u001b[0mcont\u001b[0m\u001b[0;34m)\u001b[0m\u001b[0;34m\u001b[0m\u001b[0;34m\u001b[0m\u001b[0m\n",
      "\u001b[0;32m~/Documents/Wang@Lab/EC-framework/gty/src/draw.py\u001b[0m in \u001b[0;36mdraw_canvas\u001b[0;34m(sche, cont, picture_name)\u001b[0m\n\u001b[1;32m    116\u001b[0m     \u001b[0mmem_data\u001b[0m \u001b[0;34m=\u001b[0m \u001b[0mnumpy\u001b[0m\u001b[0;34m.\u001b[0m\u001b[0mzeros\u001b[0m\u001b[0;34m(\u001b[0m\u001b[0;34m(\u001b[0m\u001b[0msize\u001b[0m\u001b[0;34m*\u001b[0m\u001b[0;36m2\u001b[0m\u001b[0;34m)\u001b[0m\u001b[0;34m,\u001b[0m  \u001b[0mdtype\u001b[0m\u001b[0;34m=\u001b[0m\u001b[0mnumpy\u001b[0m\u001b[0;34m.\u001b[0m\u001b[0muint8\u001b[0m\u001b[0;34m)\u001b[0m\u001b[0;34m\u001b[0m\u001b[0;34m\u001b[0m\u001b[0m\n\u001b[1;32m    117\u001b[0m \u001b[0;34m\u001b[0m\u001b[0m\n\u001b[0;32m--> 118\u001b[0;31m     \u001b[0mdraw_schedule\u001b[0m\u001b[0;34m(\u001b[0m\u001b[0msche\u001b[0m\u001b[0;34m,\u001b[0m \u001b[0mcont\u001b[0m\u001b[0;34m,\u001b[0m \u001b[0mdata\u001b[0m\u001b[0;34m)\u001b[0m\u001b[0;34m\u001b[0m\u001b[0;34m\u001b[0m\u001b[0m\n\u001b[0m\u001b[1;32m    119\u001b[0m \u001b[0;34m\u001b[0m\u001b[0m\n\u001b[1;32m    120\u001b[0m     \u001b[0mdraw_line_v\u001b[0m\u001b[0;34m(\u001b[0m\u001b[0mdata\u001b[0m\u001b[0;34m,\u001b[0m \u001b[0;34m[\u001b[0m\u001b[0;36m25\u001b[0m\u001b[0;34m,\u001b[0m \u001b[0;36m100\u001b[0m\u001b[0;34m]\u001b[0m\u001b[0;34m,\u001b[0m \u001b[0msize\u001b[0m \u001b[0;34m-\u001b[0m \u001b[0;36m25\u001b[0m\u001b[0;34m*\u001b[0m\u001b[0;36m2\u001b[0m\u001b[0;34m,\u001b[0m \u001b[0;36m3\u001b[0m\u001b[0;34m)\u001b[0m\u001b[0;34m\u001b[0m\u001b[0;34m\u001b[0m\u001b[0m\n",
      "\u001b[0;32m~/Documents/Wang@Lab/EC-framework/gty/src/draw.py\u001b[0m in \u001b[0;36mdraw_schedule\u001b[0;34m(sche, cont, data)\u001b[0m\n\u001b[1;32m     91\u001b[0m \u001b[0;34m\u001b[0m\u001b[0m\n\u001b[1;32m     92\u001b[0m         draw_job(data, str(i), [x_p, 100], int(x_ast), int(\n\u001b[0;32m---> 93\u001b[0;31m             x_aft), color_filled=cont_color[wr_cont[i]])\n\u001b[0m\u001b[1;32m     94\u001b[0m         \u001b[0mdraw_text\u001b[0m\u001b[0;34m(\u001b[0m\u001b[0mdata\u001b[0m\u001b[0;34m,\u001b[0m \u001b[0;34m[\u001b[0m\u001b[0mx_p\u001b[0m\u001b[0;34m+\u001b[0m\u001b[0;36m10\u001b[0m\u001b[0;34m,\u001b[0m \u001b[0;36m20\u001b[0m\u001b[0;34m]\u001b[0m\u001b[0;34m,\u001b[0m \u001b[0;34m'core '\u001b[0m\u001b[0;34m+\u001b[0m\u001b[0mstr\u001b[0m\u001b[0;34m(\u001b[0m\u001b[0mx_processor\u001b[0m\u001b[0;34m)\u001b[0m\u001b[0;34m,\u001b[0m \u001b[0;34m[\u001b[0m\u001b[0;36m0\u001b[0m\u001b[0;34m,\u001b[0m \u001b[0;36m0\u001b[0m\u001b[0;34m,\u001b[0m \u001b[0;36m0\u001b[0m\u001b[0;34m]\u001b[0m\u001b[0;34m)\u001b[0m\u001b[0;34m\u001b[0m\u001b[0;34m\u001b[0m\u001b[0m\n\u001b[1;32m     95\u001b[0m         \u001b[0mdraw_line_h\u001b[0m\u001b[0;34m(\u001b[0m\u001b[0mdata\u001b[0m\u001b[0;34m,\u001b[0m \u001b[0;34m[\u001b[0m\u001b[0mx_p\u001b[0m\u001b[0;34m,\u001b[0m \u001b[0;36m100\u001b[0m\u001b[0;34m]\u001b[0m\u001b[0;34m,\u001b[0m \u001b[0;36m1800\u001b[0m\u001b[0;34m,\u001b[0m \u001b[0;36m1\u001b[0m\u001b[0;34m,\u001b[0m \u001b[0;34m[\u001b[0m\u001b[0;36m0\u001b[0m\u001b[0;34m,\u001b[0m \u001b[0;36m0\u001b[0m\u001b[0;34m,\u001b[0m \u001b[0;36m0\u001b[0m\u001b[0;34m]\u001b[0m\u001b[0;34m)\u001b[0m\u001b[0;34m\u001b[0m\u001b[0;34m\u001b[0m\u001b[0m\n",
      "\u001b[0;31mKeyError\u001b[0m: 4"
     ]
    }
   ],
   "source": [
    "%run main"
   ]
  },
  {
   "cell_type": "code",
   "execution_count": null,
   "metadata": {},
   "outputs": [],
   "source": []
  },
  {
   "cell_type": "code",
   "execution_count": null,
   "metadata": {},
   "outputs": [],
   "source": []
  }
 ],
 "metadata": {
  "kernelspec": {
   "display_name": "Python 3",
   "language": "python",
   "name": "python3"
  },
  "language_info": {
   "codemirror_mode": {
    "name": "ipython",
    "version": 3
   },
   "file_extension": ".py",
   "mimetype": "text/x-python",
   "name": "python",
   "nbconvert_exporter": "python",
   "pygments_lexer": "ipython3",
   "version": "3.6.7"
  }
 },
 "nbformat": 4,
 "nbformat_minor": 2
}
