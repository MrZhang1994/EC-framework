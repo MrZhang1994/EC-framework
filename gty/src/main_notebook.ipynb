{
 "cells": [
  {
   "cell_type": "code",
   "execution_count": 2,
   "metadata": {
    "scrolled": false
   },
   "outputs": [
    {
     "name": "stderr",
     "output_type": "stream",
     "text": [
      "INFO:root:CP: [8, 1]\n",
      "INFO:root:CP: [8, 10, 1]\n",
      "INFO:root:CP: [12, 8, 10, 1]\n",
      "INFO:root:CP-Processor is 0\n",
      "INFO:root:task scheduling order: [1, 2, 3, 6, 4, 8, 7, 10, 5, 9, 11, 12]\n",
      "INFO:root:------- Tasks -------\n",
      "INFO:root: TASK id: 0, succ: [1], pred: [], ranku: 9999, rankd: 0, processor: None\n",
      "INFO:root: TASK id: 1, succ: [8, 2, 3], pred: [0], ranku: 547.0, rankd: 0, processor: 0\n",
      "INFO:root: TASK id: 2, succ: [3, 4], pred: [1], ranku: 502.0, rankd: 45.0, processor: 0\n",
      "INFO:root: TASK id: 3, succ: [4, 5, 6], pred: [1, 2], ranku: 435.0, rankd: 112.0, processor: 0\n",
      "INFO:root: TASK id: 4, succ: [8, 7], pred: [2, 3, 6], ranku: 325.0, rankd: 222.0, processor: 0\n",
      "INFO:root: TASK id: 5, succ: [9], pred: [3, 7], ranku: 180.0, rankd: 367.0, processor: 1\n",
      "INFO:root: TASK id: 6, succ: [4, 12], pred: [3], ranku: 388.0, rankd: 159.0, processor: 0\n",
      "INFO:root: TASK id: 7, succ: [10, 5], pred: [4], ranku: 238.0, rankd: 309.0, processor: 1\n",
      "INFO:root: TASK id: 8, succ: [10, 11], pred: [1, 4], ranku: 238.0, rankd: 309.0, processor: 0\n",
      "INFO:root: TASK id: 9, succ: [12], pred: [5], ranku: 105.0, rankd: 442.0, processor: 1\n",
      "INFO:root: TASK id: 10, succ: [12], pred: [7, 8], ranku: 153.0, rankd: 394.0, processor: 0\n",
      "INFO:root: TASK id: 11, succ: [12], pred: [8], ranku: 123.0, rankd: 394.0, processor: 2\n",
      "INFO:root: TASK id: 12, succ: [], pred: [6, 9, 10, 11], ranku: 80.0, rankd: 467.0, processor: 0\n",
      "INFO:root:--------------------\n",
      "INFO:root:tasks on processor 0: [{1: (0, 45.0)}, {2: (45.0, 112.0)}, {3: (112.0, 159.0)}, {6: (159.0, 222.0)}, {4: (222.0, 309.0)}, {8: (309.0, 394.0)}, {10: (394.0, 467.0)}, {12: (467.0, 547.0)}]\n",
      "INFO:root:tasks on processor 1: [{7: (309.0, 367.0)}, {5: (367.0, 442.0)}, {9: (442.0, 467.0)}]\n",
      "INFO:root:tasks on processor 2: [{11: (394.0, 437.0)}]\n",
      "INFO:root:makespan: 547.0\n"
     ]
    },
    {
     "name": "stdout",
     "output_type": "stream",
     "text": [
      "vertex_cpu:\n",
      "[30, 50, 30, 80, 70, 60, 50, 70, 20, 70, 40, 80]\n",
      "edge weight:\n",
      "[5, 5, 5, 9, 8, 8, 9, 5, 2, 5, 3, 5, 6, 9, 3, 5, 3, 3]\n",
      "communication_cpu\n",
      "[45.0, 67.0, 47.0, 87.0, 75.0, 63.0, 58.0, 85.0, 25.0, 73.0, 43.0, 80.0]\n",
      "process\n",
      "[ 16.5  18.7  18.7   7.7   5.5   3.3   8.8  16.5   5.5   3.3   3.3   0. ]\n",
      "iso_value\n",
      "[[ 0.12159719  0.7191583   0.37528088  0.58767578  0.6000142   0.60734148\n",
      "   0.14554424  0.83427142  0.33948234  0.2960956   0.43910629  0.32176615]\n",
      " [ 0.7191583   0.66495907  0.36921404  0.90707955  0.17127581  0.30986103\n",
      "   0.41786595  0.29069244  0.74763487  0.39718485  0.56547363  0.38692015]\n",
      " [ 0.37528088  0.36921404  0.03309938  0.47507701  0.49226912  0.4272731\n",
      "   0.70499026  0.13143888  0.65201464  0.87235512  0.37179721  0.5153975 ]\n",
      " [ 0.58767578  0.90707955  0.47507701  0.62371294  0.35970216  0.86985535\n",
      "   0.38492233  0.46388058  0.2908893   0.3148716   0.14565735  0.28369574]\n",
      " [ 0.6000142   0.17127581  0.49226912  0.35970216  0.58498823  0.44821391\n",
      "   0.50293182  0.65110779  0.16176543  0.63385672  0.8168083   0.31894064]\n",
      " [ 0.60734148  0.30986103  0.4272731   0.86985535  0.44821391  0.28780379\n",
      "   0.41362258  0.63647163  0.61768682  0.14331019  0.8905675   0.62328706]\n",
      " [ 0.14554424  0.41786595  0.70499026  0.38492233  0.50293182  0.41362258\n",
      "   0.36988342  0.83547134  0.39841968  0.77511643  0.20264043  0.72493586]\n",
      " [ 0.83427142  0.29069244  0.13143888  0.46388058  0.65110779  0.63647163\n",
      "   0.83547134  0.2033342   0.84788329  0.43267752  0.53553053  0.68506103]\n",
      " [ 0.33948234  0.74763487  0.65201464  0.2908893   0.16176543  0.61768682\n",
      "   0.39841968  0.84788329  0.25373395  0.72572473  0.40863408  0.48271389]\n",
      " [ 0.2960956   0.39718485  0.87235512  0.3148716   0.63385672  0.14331019\n",
      "   0.77511643  0.43267752  0.72572473  0.5306865   0.42577844  0.09336585]\n",
      " [ 0.43910629  0.56547363  0.37179721  0.14565735  0.8168083   0.8905675\n",
      "   0.20264043  0.53553053  0.40863408  0.42577844  0.04210023  0.47892877]\n",
      " [ 0.32176615  0.38692015  0.5153975   0.28369574  0.31894064  0.62328706\n",
      "   0.72493586  0.68506103  0.48271389  0.09336585  0.47892877  0.50276008]]\n",
      "[0, 1, 3] [2, 4, 5, 6, 7, 8, 9, 10, 11]\n",
      "Edge (2, 3) is updated\n",
      "\n",
      "[0, 1, 2, 3] [4, 5, 6, 7, 8, 9, 10, 11]\n",
      "Edge (5, 3) is updated\n",
      "\n",
      "[[-1.  5.  5. -1. -1. -1. -1.  5. -1. -1. -1. -1.]\n",
      " [-1. -1.  9.  8. -1. -1. -1. -1. -1. -1. -1. -1.]\n",
      " [-1. -1. -1.  0.  8.  9. -1. -1. -1. -1. -1. -1.]\n",
      " [-1. -1. -1. -1. -1. -1.  5.  2. -1. -1. -1. -1.]\n",
      " [-1. -1. -1. -1. -1. -1. -1. -1.  5. -1. -1. -1.]\n",
      " [-1. -1. -1.  0. -1. -1. -1. -1. -1. -1. -1.  3.]\n",
      " [-1. -1. -1. -1.  3. -1. -1. -1. -1.  5. -1. -1.]\n",
      " [-1. -1. -1. -1. -1. -1. -1. -1. -1.  6.  9. -1.]\n",
      " [-1. -1. -1. -1. -1. -1. -1. -1. -1. -1. -1.  5.]\n",
      " [-1. -1. -1. -1. -1. -1. -1. -1. -1. -1. -1.  3.]\n",
      " [-1. -1. -1. -1. -1. -1. -1. -1. -1. -1. -1.  3.]\n",
      " [-1. -1. -1. -1. -1. -1. -1. -1. -1. -1. -1. -1.]]\n",
      "{1: {8, 2, 3}, 2: {3, 4}, 3: {4, 5, 6}, 4: {8, 7}, 5: {9}, 6: {4, 12}, 7: {10, 5}, 8: {10, 11}, 9: {12}, 10: {12}, 11: {12}, 12: set()}\n",
      "[(0, 0, 0, 0), (1, 0, 45.0, 0), (2, 45.0, 112.0, 0), (3, 112.0, 159.0, 0), (4, 222.0, 309.0, 0), (5, 367.0, 442.0, 1), (6, 159.0, 222.0, 0), (7, 309.0, 367.0, 1), (8, 309.0, 394.0, 0), (9, 442.0, 467.0, 1), (10, 394.0, 467.0, 0), (11, 394.0, 437.0, 2), (12, 467.0, 547.0, 0)]\n"
     ]
    },
    {
     "ename": "AttributeError",
     "evalue": "'int' object has no attribute 'id'",
     "output_type": "error",
     "traceback": [
      "\u001b[0;31m---------------------------------------------------------------------------\u001b[0m",
      "\u001b[0;31mAttributeError\u001b[0m                            Traceback (most recent call last)",
      "\u001b[0;32m~/Documents/Wang@Lab/EC-framework/gty/src/main_cpop.py\u001b[0m in \u001b[0;36m<module>\u001b[0;34m\u001b[0m\n\u001b[1;32m     71\u001b[0m \u001b[0;34m\u001b[0m\u001b[0m\n\u001b[1;32m     72\u001b[0m \u001b[0;32mif\u001b[0m \u001b[0m__name__\u001b[0m \u001b[0;34m==\u001b[0m \u001b[0;34m'__main__'\u001b[0m\u001b[0;34m:\u001b[0m\u001b[0;34m\u001b[0m\u001b[0;34m\u001b[0m\u001b[0m\n\u001b[0;32m---> 73\u001b[0;31m     \u001b[0mmain\u001b[0m\u001b[0;34m(\u001b[0m\u001b[0;34m)\u001b[0m\u001b[0;34m\u001b[0m\u001b[0;34m\u001b[0m\u001b[0m\n\u001b[0m",
      "\u001b[0;32m~/Documents/Wang@Lab/EC-framework/gty/src/main_cpop.py\u001b[0m in \u001b[0;36mmain\u001b[0;34m()\u001b[0m\n\u001b[1;32m     31\u001b[0m     \u001b[0;31m# heft\u001b[0m\u001b[0;34m\u001b[0m\u001b[0;34m\u001b[0m\u001b[0;34m\u001b[0m\u001b[0m\n\u001b[1;32m     32\u001b[0m     \u001b[0mprocessors\u001b[0m\u001b[0;34m,\u001b[0m \u001b[0mtasks\u001b[0m\u001b[0;34m,\u001b[0m \u001b[0mpriority_list\u001b[0m \u001b[0;34m=\u001b[0m \u001b[0mcpop\u001b[0m\u001b[0;34m(\u001b[0m\u001b[0;34m)\u001b[0m\u001b[0;34m\u001b[0m\u001b[0;34m\u001b[0m\u001b[0m\n\u001b[0;32m---> 33\u001b[0;31m     \u001b[0morder\u001b[0m \u001b[0;34m=\u001b[0m \u001b[0;34m[\u001b[0m\u001b[0mt\u001b[0m\u001b[0;34m.\u001b[0m\u001b[0mid\u001b[0m \u001b[0;32mfor\u001b[0m \u001b[0mt\u001b[0m \u001b[0;32min\u001b[0m \u001b[0mpriority_list\u001b[0m\u001b[0;34m]\u001b[0m\u001b[0;34m\u001b[0m\u001b[0;34m\u001b[0m\u001b[0m\n\u001b[0m\u001b[1;32m     34\u001b[0m     \u001b[0mprint\u001b[0m\u001b[0;34m(\u001b[0m\u001b[0morder\u001b[0m\u001b[0;34m)\u001b[0m\u001b[0;34m\u001b[0m\u001b[0;34m\u001b[0m\u001b[0m\n\u001b[1;32m     35\u001b[0m \u001b[0;34m\u001b[0m\u001b[0m\n",
      "\u001b[0;32m~/Documents/Wang@Lab/EC-framework/gty/src/main_cpop.py\u001b[0m in \u001b[0;36m<listcomp>\u001b[0;34m(.0)\u001b[0m\n\u001b[1;32m     31\u001b[0m     \u001b[0;31m# heft\u001b[0m\u001b[0;34m\u001b[0m\u001b[0;34m\u001b[0m\u001b[0;34m\u001b[0m\u001b[0m\n\u001b[1;32m     32\u001b[0m     \u001b[0mprocessors\u001b[0m\u001b[0;34m,\u001b[0m \u001b[0mtasks\u001b[0m\u001b[0;34m,\u001b[0m \u001b[0mpriority_list\u001b[0m \u001b[0;34m=\u001b[0m \u001b[0mcpop\u001b[0m\u001b[0;34m(\u001b[0m\u001b[0;34m)\u001b[0m\u001b[0;34m\u001b[0m\u001b[0;34m\u001b[0m\u001b[0m\n\u001b[0;32m---> 33\u001b[0;31m     \u001b[0morder\u001b[0m \u001b[0;34m=\u001b[0m \u001b[0;34m[\u001b[0m\u001b[0mt\u001b[0m\u001b[0;34m.\u001b[0m\u001b[0mid\u001b[0m \u001b[0;32mfor\u001b[0m \u001b[0mt\u001b[0m \u001b[0;32min\u001b[0m \u001b[0mpriority_list\u001b[0m\u001b[0;34m]\u001b[0m\u001b[0;34m\u001b[0m\u001b[0;34m\u001b[0m\u001b[0m\n\u001b[0m\u001b[1;32m     34\u001b[0m     \u001b[0mprint\u001b[0m\u001b[0;34m(\u001b[0m\u001b[0morder\u001b[0m\u001b[0;34m)\u001b[0m\u001b[0;34m\u001b[0m\u001b[0;34m\u001b[0m\u001b[0m\n\u001b[1;32m     35\u001b[0m \u001b[0;34m\u001b[0m\u001b[0m\n",
      "\u001b[0;31mAttributeError\u001b[0m: 'int' object has no attribute 'id'"
     ]
    }
   ],
   "source": [
    "%run main_cpop"
   ]
  },
  {
   "cell_type": "code",
   "execution_count": null,
   "metadata": {},
   "outputs": [],
   "source": []
  },
  {
   "cell_type": "code",
   "execution_count": null,
   "metadata": {},
   "outputs": [],
   "source": []
  }
 ],
 "metadata": {
  "kernelspec": {
   "display_name": "Python 3",
   "language": "python",
   "name": "python3"
  },
  "language_info": {
   "codemirror_mode": {
    "name": "ipython",
    "version": 3
   },
   "file_extension": ".py",
   "mimetype": "text/x-python",
   "name": "python",
   "nbconvert_exporter": "python",
   "pygments_lexer": "ipython3",
   "version": "3.6.7"
  }
 },
 "nbformat": 4,
 "nbformat_minor": 2
}
