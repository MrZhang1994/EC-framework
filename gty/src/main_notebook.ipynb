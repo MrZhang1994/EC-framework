{
 "cells": [
  {
   "cell_type": "code",
   "execution_count": 1,
   "metadata": {
    "scrolled": false
   },
   "outputs": [],
   "source": [
    "import pandas as pd\n",
    "import seaborn as sns\n",
    "import matplotlib.pyplot as plt"
   ]
  },
  {
   "cell_type": "code",
   "execution_count": 7,
   "metadata": {},
   "outputs": [
    {
     "data": {
      "image/png": "[encoded data removed]",
      "text/plain": [
       "<matplotlib.figure.Figure at 0x7f71777bffd0>"
      ]
     },
     "metadata": {
      "needs_background": "light"
     },
     "output_type": "display_data"
    }
   ],
   "source": [
    "k = 0\n",
    "gid = 1\n",
    "with open('./results/'+str(k)+str(gid)+'forward.txt', 'r') as f:\n",
    "    F = [float(line.strip()) for line in f.readlines()]\n",
    "\n",
    "with open('./results/'+str(k)+str(gid)+'backward.txt', 'r') as f:\n",
    "    B = [float(line.strip()) for line in f.readlines()]\n",
    "\n",
    "with open('./results/'+str(k)+str(gid)+'i2c.txt', 'r') as f:\n",
    "    I2C = [float(line.strip()) for line in f.readlines()]\n",
    "\n",
    "with open('./results/'+str(k)+str(gid)+'inorder.txt', 'r') as f:\n",
    "    I = [float(line.strip()) for line in f.readlines()]\n",
    "\n",
    "with open('./results/'+str(k)+str(gid)+'random.txt', 'r') as f:\n",
    "    R = [float(line.strip()) for line in f.readlines()]\n",
    "\n",
    "with open('./results/'+str(k)+str(gid)+'sc.txt', 'r') as f:\n",
    "    S = [float(line.strip()) for line in f.readlines()]\n",
    "\n",
    "df = pd.DataFrame(columns=('Type', 'result'))\n",
    "cnt = 0\n",
    "for x in F:\n",
    "    df.loc[cnt] = ['forward', x]\n",
    "    cnt += 1\n",
    "for x in B:\n",
    "    df.loc[cnt] = ['backward', x]\n",
    "    cnt += 1\n",
    "for x in I2C:\n",
    "    df.loc[cnt] = ['i2c', x]\n",
    "    cnt += 1\n",
    "for x in I:\n",
    "    df.loc[cnt] = ['inorder', x]\n",
    "    cnt += 1\n",
    "for x in S:\n",
    "    df.loc[cnt] = ['sc', x]\n",
    "    cnt += 1\n",
    "for x in R:\n",
    "    df.loc[cnt] = ['random', x]\n",
    "    cnt += 1\n",
    "plt.figure(figsize = (7,4))\n",
    "result = sns.boxplot(y='Type',x='result',data=df)\n",
    "fig = result.get_figure()\n",
    "fig.savefig('box.png')"
   ]
  },
  {
   "cell_type": "code",
   "execution_count": null,
   "metadata": {},
   "outputs": [],
   "source": []
  },
  {
   "cell_type": "code",
   "execution_count": null,
   "metadata": {},
   "outputs": [],
   "source": []
  }
 ],
 "metadata": {
  "kernelspec": {
   "display_name": "Python 3",
   "language": "python",
   "name": "python3"
  },
  "language_info": {
   "codemirror_mode": {
    "name": "ipython",
    "version": 3
   },
   "file_extension": ".py",
   "mimetype": "text/x-python",
   "name": "python",
   "nbconvert_exporter": "python",
   "pygments_lexer": "ipython3",
   "version": "3.6.7"
  }
 },
 "nbformat": 4,
 "nbformat_minor": 2
}
