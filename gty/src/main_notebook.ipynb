{
 "cells": [
  {
   "cell_type": "code",
   "execution_count": 12,
   "metadata": {
    "scrolled": false
   },
   "outputs": [],
   "source": [
    "import pandas as pd\n",
    "import numpy as np\n",
    "import seaborn as sns\n",
    "import matplotlib.pyplot as plt"
   ]
  },
  {
   "cell_type": "code",
   "execution_count": 27,
   "metadata": {},
   "outputs": [
    {
     "data": {
      "image/png": "[encoded data removed]",
      "text/plain": [
       "<matplotlib.figure.Figure at 0x7fef5c333128>"
      ]
     },
     "metadata": {
      "needs_background": "light"
     },
     "output_type": "display_data"
    }
   ],
   "source": [
    "def draw_box(k, gid)\n",
    "    path = './results/graph' + str(gid) + '/' + str(k) + '/'\n",
    "    \n",
    "    with open(path+'forward.txt', 'r') as f:\n",
    "        F = [float(line.strip()) for line in f.readlines()]\n",
    "    \n",
    "    with open(path+'backward.txt', 'r') as f:\n",
    "        B = [float(line.strip()) for line in f.readlines()]\n",
    "    \n",
    "    with open(path+'i2c.txt', 'r') as f:\n",
    "        I2C = [float(line.strip()) for line in f.readlines()]\n",
    "    \n",
    "    with open(path+'inorder.txt', 'r') as f:\n",
    "        I = [float(line.strip()) for line in f.readlines()]\n",
    "    \n",
    "    with open(path+'random.txt', 'r') as f:\n",
    "        R = [float(line.strip()) for line in f.readlines()]\n",
    "    \n",
    "    with open(path+'sc.txt', 'r') as f:\n",
    "        S = [float(line.strip()) for line in f.readlines()]\n",
    "    \n",
    "    df = pd.DataFrame(columns=('Type', 'result'))\n",
    "    cnt = 0\n",
    "    for x in F:\n",
    "        df.loc[cnt] = ['forward', x]\n",
    "        cnt += 1\n",
    "    for x in B:\n",
    "        df.loc[cnt] = ['backward', x]\n",
    "        cnt += 1\n",
    "    for x in I2C:\n",
    "        df.loc[cnt] = ['i2c', x]\n",
    "        cnt += 1\n",
    "    for x in I:\n",
    "        df.loc[cnt] = ['inorder', x]\n",
    "        cnt += 1\n",
    "    for x in S:\n",
    "        df.loc[cnt] = ['sc', x]\n",
    "        cnt += 1\n",
    "    for x in R:\n",
    "        df.loc[cnt] = ['random', x]\n",
    "        cnt += 1\n",
    "    plt.figure(figsize = (7,4))\n",
    "    result = sns.boxplot(y='Type',x='result',data=df)\n",
    "\"\"\"\n",
    "fig = result.get_figure()\n",
    "fig.savefig('box.png')\n",
    "\"\"\""
   ]
  },
  {
   "cell_type": "code",
   "execution_count": 24,
   "metadata": {},
   "outputs": [],
   "source": [
    "files = ['forward.txt', 'forward_open.txt', 'backward.txt', 'backward_open.txt', 'i2c.txt', 'i2c_open.txt', 'inorder.txt', 'inorder_open.txt', 'random.txt', 'random_open.txt', 'sc.txt', 'sc_open.txt']\n",
    "df = pd.DataFrame()\n",
    "df['name'] =['graph' + str(gid) + ', ' + file for gid in [1, 2, 3, 4] for file in files ]\n",
    "for k in range(13):\n",
    "    col = []\n",
    "    for gid in [1, 2, 3, 4]:\n",
    "        for file in files:\n",
    "            path = './results/graph' + str(gid) + '/' + str(k) + '/' + file\n",
    "            with open(path, 'r') as f:\n",
    "                avg = np.mean([float(line.strip()) for line in f.readlines()])\n",
    "                col.append(avg)\n",
    "    df[str(k)] = col\n",
    "\n",
    "df = df.set_index('name')\n",
    "df.to_excel('results.xlsx')"
   ]
  },
  {
   "cell_type": "code",
   "execution_count": null,
   "metadata": {},
   "outputs": [],
   "source": []
  }
 ],
 "metadata": {
  "kernelspec": {
   "display_name": "Python 3",
   "language": "python",
   "name": "python3"
  },
  "language_info": {
   "codemirror_mode": {
    "name": "ipython",
    "version": 3
   },
   "file_extension": ".py",
   "mimetype": "text/x-python",
   "name": "python",
   "nbconvert_exporter": "python",
   "pygments_lexer": "ipython3",
   "version": "3.6.7"
  }
 },
 "nbformat": 4,
 "nbformat_minor": 2
}
