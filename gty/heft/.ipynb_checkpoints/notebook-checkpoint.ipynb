{
 "cells": [
  {
   "cell_type": "code",
   "execution_count": 1,
   "metadata": {
    "scrolled": false
   },
   "outputs": [
    {
     "name": "stderr",
     "output_type": "stream",
     "text": [
      "INFO:root:------- Tasks -------\n",
      "INFO:root: TASK id: 0, succ: [1], pred: [], avg_comp_cost: 0, ranku: 9999, rankd: 0\n",
      "INFO:root: TASK id: 1, succ: [2, 3, 8], pred: [0], avg_comp_cost: 42, ranku: 473, rankd: 0\n",
      "INFO:root: TASK id: 2, succ: [3, 4], pred: [1], avg_comp_cost: 94, ranku: 431, rankd: 42\n",
      "INFO:root: TASK id: 3, succ: [5, 6], pred: [1, 2], avg_comp_cost: 105, ranku: 221, rankd: 136\n",
      "INFO:root: TASK id: 4, succ: [7, 8], pred: [2], avg_comp_cost: 112, ranku: 337, rankd: 136\n",
      "INFO:root: TASK id: 5, succ: [9], pred: [3, 7], avg_comp_cost: 44, ranku: 116, rankd: 357\n",
      "INFO:root: TASK id: 6, succ: [12], pred: [3], avg_comp_cost: 58, ranku: 88, rankd: 241\n",
      "INFO:root: TASK id: 7, succ: [5, 10], pred: [4], avg_comp_cost: 109, ranku: 225, rankd: 248\n",
      "INFO:root: TASK id: 8, succ: [10, 11], pred: [1, 4], avg_comp_cost: 64, ranku: 162, rankd: 248\n",
      "INFO:root: TASK id: 9, succ: [12], pred: [5], avg_comp_cost: 42, ranku: 72, rankd: 401\n",
      "INFO:root: TASK id: 10, succ: [12], pred: [7, 8], avg_comp_cost: 68, ranku: 98, rankd: 357\n",
      "INFO:root: TASK id: 11, succ: [12], pred: [8], avg_comp_cost: 44, ranku: 74, rankd: 312\n",
      "INFO:root: TASK id: 12, succ: [], pred: [6, 9, 10, 11], avg_comp_cost: 30, ranku: 30, rankd: 443\n",
      "INFO:root:--------------------\n",
      "INFO:root:task scheduling order: [0, 1, 2, 4, 7, 3, 8, 5, 10, 6, 11, 9, 12]\n",
      "INFO:root:tasks on processor 0: [{0: (0, 0)}, {1: (0, 42)}, {2: (42, 136)}, {4: (136, 248)}, {7: (248, 357)}, {5: (357, 401)}, {9: (401, 443)}, {12: (443, 473)}]\n",
      "INFO:root:tasks on processor 1: [{3: (136, 241)}, {8: (248, 312)}, {10: (357, 425)}]\n",
      "INFO:root:tasks on processor 2: [{6: (241, 299)}, {11: (312, 356)}]\n",
      "INFO:root:makespan: 473\n"
     ]
    },
    {
     "name": "stdout",
     "output_type": "stream",
     "text": [
      "{1: {8, 2, 3}, 2: {3, 4}, 3: {5, 6}, 4: {8, 7}, 5: {9}, 6: {12}, 7: {10, 5}, 8: {10, 11}, 9: {12}, 10: {12}, 11: {12}, 0: set()}\n",
      "{1: 4.0, 2: 7.0, 3: 5.0, 4: 6.0, 5: 4.0, 6: 4.0, 7: 4.5, 8: 7.0, 9: 2.0, 10: 8.0, 11: 4.0, 0: 0.0}\n",
      "inorder\n"
     ]
    }
   ],
   "source": [
    "from heft import heft\n",
    "from example import dag\n",
    "from containerize import *\n",
    "import random\n",
    "\n",
    "N = 13\n",
    "processors, tasks, priority_list = heft()\n",
    "order = [t.id for t in priority_list]\n",
    "r_dag, cpath, index, cont, bridge_tasks, new_tasks, new_processors = containerize(dag, processors, tasks, 0, order, 'bfs')"
   ]
  },
  {
   "cell_type": "code",
   "execution_count": 2,
   "metadata": {
    "scrolled": true
   },
   "outputs": [
    {
     "data": {
      "text/plain": [
       "[0.0, -4.0, -7.0, 111.0, -6.0, -4.0, 140.0, -4.5, 0, -2.0, 10.0, 83.0]"
      ]
     },
     "execution_count": 2,
     "metadata": {},
     "output_type": "execute_result"
    }
   ],
   "source": [
    "index"
   ]
  },
  {
   "cell_type": "code",
   "execution_count": 3,
   "metadata": {},
   "outputs": [
    {
     "data": {
      "text/plain": [
       "{0: {0, 1, 2, 3}, 1: {4, 5, 6}, 2: {7, 8}, 3: {9, 10}, 4: {11, 12}}"
      ]
     },
     "execution_count": 3,
     "metadata": {},
     "output_type": "execute_result"
    }
   ],
   "source": [
    "cont"
   ]
  },
  {
   "cell_type": "code",
   "execution_count": 4,
   "metadata": {},
   "outputs": [
    {
     "data": {
      "text/plain": [
       "[1, 2, 3, 4, 5, 6, 7, 8, 9, 10]"
      ]
     },
     "execution_count": 4,
     "metadata": {},
     "output_type": "execute_result"
    }
   ],
   "source": [
    "bridge_tasks"
   ]
  },
  {
   "cell_type": "code",
   "execution_count": 5,
   "metadata": {},
   "outputs": [
    {
     "data": {
      "text/plain": [
       "[(0, 0, 0, 0),\n",
       " (1, 0, 67.9, 0),\n",
       " (2, 67.9, 191.5, 0),\n",
       " (3, 191.5, 352.0, 1),\n",
       " (4, 191.5, 347.9, 0),\n",
       " (5, 490.2, 549.0, 0),\n",
       " (6, 352.0, 439.6, 2),\n",
       " (7, 347.9, 490.2, 0),\n",
       " (8, 352.0, 467.8, 1),\n",
       " (9, 549.0, 598.4, 0),\n",
       " (10, 490.2, 587.8, 1),\n",
       " (11, 467.8, 511.8, 2),\n",
       " (12, 598.4, 628.4, 0)]"
      ]
     },
     "execution_count": 5,
     "metadata": {},
     "output_type": "execute_result"
    }
   ],
   "source": [
    "[(x.id, round(x.ast, 1), round(x.aft, 1), x.processor) for x in new_tasks]"
   ]
  },
  {
   "cell_type": "code",
   "execution_count": 6,
   "metadata": {},
   "outputs": [
    {
     "data": {
      "text/plain": [
       "[[(0, 0, 0, 0),\n",
       "  (0, 1, 0, 67.9),\n",
       "  (0, 2, 67.9, 191.5),\n",
       "  (0, 4, 191.5, 347.9),\n",
       "  (0, 7, 347.9, 490.2),\n",
       "  (0, 5, 490.2, 549.0),\n",
       "  (0, 9, 549.0, 598.4),\n",
       "  (0, 12, 598.4, 628.4)],\n",
       " [(1, 3, 191.5, 352.0), (1, 8, 352.0, 467.8), (1, 10, 490.2, 587.8)],\n",
       " [(2, 6, 352.0, 439.6), (2, 11, 467.8, 511.8)]]"
      ]
     },
     "execution_count": 6,
     "metadata": {},
     "output_type": "execute_result"
    }
   ],
   "source": [
    "[[(t.processor, t.id, round(t.ast, 1), round(t.aft, 1)) for t in p.tasks] for p in new_processors]"
   ]
  },
  {
   "cell_type": "code",
   "execution_count": 7,
   "metadata": {},
   "outputs": [],
   "source": [
    "one_tasks, one_processors = update_schedule(dag, r_dag, processors, tasks, range(1, N), order, [i for i in range(N)])"
   ]
  },
  {
   "cell_type": "code",
   "execution_count": 8,
   "metadata": {},
   "outputs": [
    {
     "data": {
      "text/plain": [
       "[(0, 0, 0, 0),\n",
       " (1, 0, 86.4, 0),\n",
       " (2, 86.4, 232.2, 0),\n",
       " (3, 232.2, 392.7, 1),\n",
       " (4, 232.2, 388.6, 0),\n",
       " (5, 530.9, 589.7, 0),\n",
       " (6, 392.7, 480.3, 2),\n",
       " (7, 388.6, 530.9, 0),\n",
       " (8, 392.7, 508.5, 1),\n",
       " (9, 589.7, 639.1, 0),\n",
       " (10, 530.9, 628.5, 1),\n",
       " (11, 508.5, 567.3, 2),\n",
       " (12, 639.1, 669.1, 0)]"
      ]
     },
     "execution_count": 8,
     "metadata": {},
     "output_type": "execute_result"
    }
   ],
   "source": [
    "[(x.id, round(x.ast, 1), round(x.aft, 1), x.processor) for x in one_tasks]"
   ]
  },
  {
   "cell_type": "code",
   "execution_count": 9,
   "metadata": {},
   "outputs": [
    {
     "data": {
      "text/plain": [
       "[0, 1, 2, 4, 7, 5, 9, 12]"
      ]
     },
     "execution_count": 9,
     "metadata": {},
     "output_type": "execute_result"
    }
   ],
   "source": [
    "cpath"
   ]
  },
  {
   "cell_type": "code",
   "execution_count": 10,
   "metadata": {},
   "outputs": [
    {
     "data": {
      "text/plain": [
       "{0: set(),\n",
       " 1: {0},\n",
       " 2: {1},\n",
       " 3: {1, 2},\n",
       " 4: {2},\n",
       " 5: {3, 7},\n",
       " 6: {3},\n",
       " 7: {4},\n",
       " 8: {1, 3, 4},\n",
       " 9: {5},\n",
       " 10: {7, 8},\n",
       " 11: {6, 8},\n",
       " 12: {6, 9, 10, 11}}"
      ]
     },
     "execution_count": 10,
     "metadata": {},
     "output_type": "execute_result"
    }
   ],
   "source": [
    "r_dag"
   ]
  },
  {
   "cell_type": "code",
   "execution_count": null,
   "metadata": {},
   "outputs": [],
   "source": []
  }
 ],
 "metadata": {
  "kernelspec": {
   "display_name": "Python 3",
   "language": "python",
   "name": "python3"
  },
  "language_info": {
   "codemirror_mode": {
    "name": "ipython",
    "version": 3
   },
   "file_extension": ".py",
   "mimetype": "text/x-python",
   "name": "python",
   "nbconvert_exporter": "python",
   "pygments_lexer": "ipython3",
   "version": "3.6.7"
  }
 },
 "nbformat": 4,
 "nbformat_minor": 2
}
