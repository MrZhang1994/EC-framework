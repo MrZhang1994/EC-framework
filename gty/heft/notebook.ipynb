{
 "cells": [
  {
   "cell_type": "code",
   "execution_count": 1,
   "metadata": {
    "scrolled": false
   },
   "outputs": [
    {
     "name": "stderr",
     "output_type": "stream",
     "text": [
      "INFO:root:------- Tasks -------\n",
      "INFO:root: TASK id: 0, succ: [1], pred: [], avg_comp_cost: 0, ranku: 9999, rankd: 0\n",
      "INFO:root: TASK id: 1, succ: [2, 3, 4, 5, 6], pred: [0], avg_comp_cost: 13, ranku: 61.0, rankd: 0\n",
      "INFO:root: TASK id: 2, succ: [8, 9], pred: [1], avg_comp_cost: 16.666666666666668, ranku: 48.0, rankd: 13\n",
      "INFO:root: TASK id: 3, succ: [7], pred: [1], avg_comp_cost: 14.333333333333334, ranku: 40.0, rankd: 13\n",
      "INFO:root: TASK id: 4, succ: [8, 9], pred: [1], avg_comp_cost: 12.666666666666666, ranku: 44.0, rankd: 13\n",
      "INFO:root: TASK id: 5, succ: [9], pred: [1], avg_comp_cost: 11.666666666666666, ranku: 43.0, rankd: 13\n",
      "INFO:root: TASK id: 6, succ: [8], pred: [1], avg_comp_cost: 12.666666666666666, ranku: 37.333, rankd: 13\n",
      "INFO:root: TASK id: 7, succ: [10], pred: [3], avg_comp_cost: 11, ranku: 25.667, rankd: 27.333\n",
      "INFO:root: TASK id: 8, succ: [10], pred: [2, 4, 6], avg_comp_cost: 10, ranku: 24.667, rankd: 29.667\n",
      "INFO:root: TASK id: 9, succ: [10], pred: [2, 4, 5], avg_comp_cost: 16.666666666666668, ranku: 31.333, rankd: 29.667\n",
      "INFO:root: TASK id: 10, succ: [], pred: [7, 8, 9], avg_comp_cost: 14.666666666666666, ranku: 14.667, rankd: 46.333\n",
      "INFO:root:--------------------\n",
      "INFO:root:task scheduling order: [0, 1, 2, 4, 5, 3, 6, 9, 7, 8, 10]\n",
      "INFO:root:tasks on processor 0: [{0: (0, 0)}, {2: (9, 22)}, {9: (22, 40)}]\n",
      "INFO:root:tasks on processor 1: [{4: (9, 17)}, {3: (17, 30)}, {8: (30, 41)}, {10: (41, 48)}]\n",
      "INFO:root:tasks on processor 2: [{1: (0, 9)}, {5: (9, 19)}, {6: (19, 28)}, {7: (30, 41)}]\n",
      "INFO:root:makespan: 48\n"
     ]
    },
    {
     "name": "stdout",
     "output_type": "stream",
     "text": [
      "{1: {2, 3, 4, 5, 6}, 2: {8, 9}, 3: {7}, 4: {8, 9}, 5: {9}, 6: {8}, 7: {10}, 8: {10}, 9: {10}, 0: set()}\n",
      "[10, 7, 8, 9, 3, 6, 2, 4, 1]\n"
     ]
    }
   ],
   "source": [
    "from heft import heft\n",
    "from example import dag\n",
    "from containerize import *\n",
    "import random\n",
    "\n",
    "N = 11\n",
    "processors, tasks, priority_list = heft()\n",
    "order = [t.id for t in priority_list]\n",
    "r_dag, cpath, index, cont, bridge_tasks, new_tasks, new_processors = containerize(dag, processors, tasks, 0, order)"
   ]
  },
  {
   "cell_type": "code",
   "execution_count": 2,
   "metadata": {},
   "outputs": [
    {
     "data": {
      "text/plain": [
       "[0,\n",
       " -2.4000000000000004,\n",
       " -9.5,\n",
       " -11.5,\n",
       " -1.833333333333334,\n",
       " 0,\n",
       " -5.5,\n",
       " -17.0,\n",
       " -11.0,\n",
       " -12.0]"
      ]
     },
     "execution_count": 2,
     "metadata": {},
     "output_type": "execute_result"
    }
   ],
   "source": [
    "index"
   ]
  },
  {
   "cell_type": "code",
   "execution_count": 3,
   "metadata": {},
   "outputs": [
    {
     "data": {
      "text/plain": [
       "{0: {7, 9, 10}, 1: {2, 3, 8}, 2: {1, 5, 6}, 3: {0, 4}}"
      ]
     },
     "execution_count": 3,
     "metadata": {},
     "output_type": "execute_result"
    }
   ],
   "source": [
    "cont"
   ]
  },
  {
   "cell_type": "code",
   "execution_count": 4,
   "metadata": {},
   "outputs": [
    {
     "data": {
      "text/plain": [
       "[1, 2, 3, 4, 5, 6, 8]"
      ]
     },
     "execution_count": 4,
     "metadata": {},
     "output_type": "execute_result"
    }
   ],
   "source": [
    "bridge_tasks"
   ]
  },
  {
   "cell_type": "code",
   "execution_count": 5,
   "metadata": {},
   "outputs": [
    {
     "data": {
      "text/plain": [
       "[(0, 0, 0, 0),\n",
       " (1, 0, 9.9, 2),\n",
       " (2, 9.9, 24.200000000000003, 0),\n",
       " (3, 18.700000000000003, 33.0, 1),\n",
       " (4, 9.9, 18.700000000000003, 1),\n",
       " (5, 9.9, 20.9, 2),\n",
       " (6, 20.9, 30.799999999999997, 2),\n",
       " (7, 33.0, 44.0, 2),\n",
       " (8, 33.0, 45.1, 1),\n",
       " (9, 24.200000000000003, 42.2, 0),\n",
       " (10, 45.1, 52.1, 1)]"
      ]
     },
     "execution_count": 5,
     "metadata": {},
     "output_type": "execute_result"
    }
   ],
   "source": [
    "[(x.id, x.ast, x.aft, x.processor) for x in new_tasks]"
   ]
  },
  {
   "cell_type": "code",
   "execution_count": 6,
   "metadata": {},
   "outputs": [
    {
     "data": {
      "text/plain": [
       "[[(0, 0, 0, 0),\n",
       "  (0, 2, 9.9, 24.200000000000003),\n",
       "  (0, 9, 24.200000000000003, 42.2)],\n",
       " [(1, 4, 9.9, 18.700000000000003),\n",
       "  (1, 3, 18.700000000000003, 33.0),\n",
       "  (1, 8, 33.0, 45.1),\n",
       "  (1, 10, 45.1, 52.1)],\n",
       " [(2, 1, 0, 9.9),\n",
       "  (2, 5, 9.9, 20.9),\n",
       "  (2, 6, 20.9, 30.799999999999997),\n",
       "  (2, 7, 33.0, 44.0)]]"
      ]
     },
     "execution_count": 6,
     "metadata": {},
     "output_type": "execute_result"
    }
   ],
   "source": [
    "[[(t.processor, t.id, t.ast, t.aft) for t in p.tasks] for p in new_processors]"
   ]
  }
 ],
 "metadata": {
  "kernelspec": {
   "display_name": "Python 3",
   "language": "python",
   "name": "python3"
  },
  "language_info": {
   "codemirror_mode": {
    "name": "ipython",
    "version": 3
   },
   "file_extension": ".py",
   "mimetype": "text/x-python",
   "name": "python",
   "nbconvert_exporter": "python",
   "pygments_lexer": "ipython3",
   "version": "3.6.7"
  }
 },
 "nbformat": 4,
 "nbformat_minor": 2
}
