{
 "cells": [
  {
   "cell_type": "code",
   "execution_count": 139,
   "metadata": {},
   "outputs": [],
   "source": [
    "import queue\n",
    "import heapq\n",
    "n = 0\n",
    "def toposort(graph, s, t):\n",
    "    ind = [0 for i in range(n)]\n",
    "    q = queue.Queue()\n",
    "    for i, x in enumerate(graph):\n",
    "        for j, y in enumerate(x):\n",
    "            if y != -1:\n",
    "                ind[j] = ind[j] + 1\n",
    "    \n",
    "    q.put(s)\n",
    "    topo = []\n",
    "    while not q.empty():\n",
    "        x = q.get()\n",
    "        topo.append(x)\n",
    "        for j, y in enumerate(graph[x]):\n",
    "            if y != -1:\n",
    "                ind[j] = ind[j] - 1\n",
    "                if ind[j] == 0:\n",
    "                    q.put(j)\n",
    "    return topo\n",
    "\n",
    "def getTopLevel(graph, topo):\n",
    "    top = [0 for i in range(n)]\n",
    "    for i in topo:\n",
    "        m = 0\n",
    "        for j in range(len(topo)):\n",
    "            if graph[j][i] != -1:\n",
    "                if top[j] + graph[j][i]> m:\n",
    "                    m = top[j] + graph[j][i]\n",
    "        top[i] = m\n",
    "    return top\n",
    "        \n",
    "def getBottomLevel(graph, topo):\n",
    "    bottom = [0 for i in range(n)]\n",
    "    for i in reversed(topo):\n",
    "        m = 0\n",
    "        for j in range(n):\n",
    "            if graph[i][j] != -1:\n",
    "                if bottom[j] + graph[i][j]> m:\n",
    "                    m = bottom[j] + graph[i][j]\n",
    "        bottom[i] = m\n",
    "    return bottom\n",
    "        \n",
    "def minLevel(graph, S, T, s, t):\n",
    "    topo = toposort(graph, s, t)\n",
    "    top = getTopLevel(graph, topo)\n",
    "    bottom = getBottomLevel(graph, topo)\n",
    "    u = S[0]\n",
    "    v = T[0]\n",
    "    for i in S:\n",
    "        for j in T:\n",
    "            print('candidates: ' + str(v+1) + ' ' + str(u+1) + ', weight: ' + str(top[j] + bottom[i]))\n",
    "            if top[j] + bottom[i] < top[v] + bottom[u]:\n",
    "                u = i\n",
    "                v = j\n",
    "    return [v, u]"
   ]
  },
  {
   "cell_type": "code",
   "execution_count": 141,
   "metadata": {},
   "outputs": [
    {
     "name": "stdout",
     "output_type": "stream",
     "text": [
      "candidates: 3 2, weight: 60\n",
      "candidates: 3 4, weight: 50\n",
      "&\n",
      "candidates: 6 1, weight: 80\n",
      "candidates: 6 2, weight: 70\n",
      "candidates: 6 3, weight: 60\n"
     ]
    },
    {
     "data": {
      "text/plain": [
       "[5, 2]"
      ]
     },
     "execution_count": 141,
     "metadata": {},
     "output_type": "execute_result"
    }
   ],
   "source": [
    "with open('graph.txt', 'r') as w:\n",
    "    fin = w.read().split()\n",
    "    fin = [int(x) for x in fin]\n",
    "    n = fin[0]\n",
    "    s = fin[1]\n",
    "    t = fin[2]\n",
    "    cnt = 3\n",
    "    g =[[] for i in range(n)]\n",
    "    for i in range(n):\n",
    "        for j in range(n):\n",
    "            g[i].append(fin[cnt])\n",
    "            cnt = cnt + 1\n",
    "\n",
    "S = [0, 1, 3]\n",
    "T = [2, 4, 5, 6, 7, 8, 9, 10, 11]\n",
    "[u, v] = minLevel(g, S, T, s, t)\n",
    "g[u][v] = 0\n",
    "print('&')\n",
    "S = [0, 1, 2, 3]\n",
    "T = [4, 5, 6, 7, 8, 9, 10, 11]\n",
    "minLevel(g, S, T, s, t)"
   ]
  },
  {
   "cell_type": "code",
   "execution_count": null,
   "metadata": {},
   "outputs": [],
   "source": []
  }
 ],
 "metadata": {
  "kernelspec": {
   "display_name": "Python 3",
   "language": "python",
   "name": "python3"
  },
  "language_info": {
   "codemirror_mode": {
    "name": "ipython",
    "version": 3
   },
   "file_extension": ".py",
   "mimetype": "text/x-python",
   "name": "python",
   "nbconvert_exporter": "python",
   "pygments_lexer": "ipython3",
   "version": "3.6.7"
  }
 },
 "nbformat": 4,
 "nbformat_minor": 2
}
