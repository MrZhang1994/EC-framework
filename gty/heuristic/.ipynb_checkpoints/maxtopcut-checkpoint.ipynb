{
 "cells": [
  {
   "cell_type": "code",
   "execution_count": 1,
   "metadata": {},
   "outputs": [],
   "source": [
    "import numpy as np\n",
    "from scipy.optimize import linprog"
   ]
  },
  {
   "cell_type": "code",
   "execution_count": 8,
   "metadata": {},
   "outputs": [],
   "source": [
    "graph = np.zeros((12, 12)); \n",
    "for i in range(12):\n",
    "    for j in range(12):\n",
    "        graph[i, j] = -1\n",
    "graph[0, 1] = 10\n",
    "graph[0, 2] = 10\n",
    "graph[0, 7] = 10\n",
    "graph[1, 2] = 10\n",
    "graph[1, 3] = 10\n",
    "graph[2, 4] = 10\n",
    "graph[2, 5] = 10\n",
    "graph[3, 6] = 10\n",
    "graph[3, 7] = 10\n",
    "graph[4, 8] = 10\n",
    "graph[6, 4] = 10\n",
    "graph[6, 9] = 10\n",
    "graph[7, 9] = 10\n",
    "graph[7, 10] = 10\n",
    "graph[5, 11] = 0\n",
    "graph[8, 11] = 0\n",
    "graph[9, 11] = 0\n",
    "graph[10, 11] = 0"
   ]
  },
  {
   "cell_type": "code",
   "execution_count": 86,
   "metadata": {},
   "outputs": [],
   "source": [
    "process = np.array([32, 21, 12, 21, 12, 10, 21, 22, 11, 10, 10, 0])\n",
    "core = 2"
   ]
  },
  {
   "cell_type": "code",
   "execution_count": 72,
   "metadata": {},
   "outputs": [],
   "source": [
    "vertex_num = graph.shape[0]\n",
    "augment_size = 2 * vertex_num\n",
    "augment_matrix = np.zeros((augment_size, augment_size))\n",
    "for i in range(augment_size):\n",
    "    for j in range(augment_size):\n",
    "        augment_matrix[i, j] = -1\n",
    "for i in range(vertex_num):\n",
    "    for j in range(vertex_num):\n",
    "        if graph[i, j] != -1:          \n",
    "            index = i + vertex_num\n",
    "            augment_matrix[index, j] = graph[i, j]\n",
    "for i in range(vertex_num):\n",
    "    if process[i] != 0:\n",
    "        augment_matrix[i, i + vertex_num] = process[i]"
   ]
  },
  {
   "cell_type": "code",
   "execution_count": 89,
   "metadata": {},
   "outputs": [],
   "source": [
    "A = np.zeros(augment_size)\n",
    "flag = 0; \n",
    "in_degree = np.zeros(augment_size)\n",
    "out_degree = np.zeros(augment_size)\n",
    "for i in range(augment_size):\n",
    "    for j in range(augment_size):\n",
    "        if augment_matrix[i, j] != -1:\n",
    "            Ai = np.zeros(augment_size)\n",
    "            Ai[i] = -1\n",
    "            Ai[j] = 1\n",
    "            out_degree[i] += augment_matrix[i, j]\n",
    "            in_degree[j] += augment_matrix[i, j]\n",
    "            if flag == 0:\n",
    "                A = Ai\n",
    "                flag = 1\n",
    "            else:\n",
    "                A = np.row_stack((A, Ai))\n",
    "A_core = np.zeros(augment_size)\n",
    "for k in range(vertex_num):\n",
    "    if process[k] != 0:\n",
    "        A_core[k] = 1\n",
    "        A_core[k + vertex_num] = -1\n",
    "A = np.row_stack((A, A_core))"
   ]
  },
  {
   "cell_type": "code",
   "execution_count": 104,
   "metadata": {},
   "outputs": [],
   "source": [
    "b = np.zeros(A.shape[0])\n",
    "b[A.shape[0] - 1] = core\n",
    "lb = np.zeros(augment_size)\n",
    "ub = np.ones(augment_size)\n",
    "f = in_degree - out_degree"
   ]
  },
  {
   "cell_type": "code",
   "execution_count": 107,
   "metadata": {},
   "outputs": [],
   "source": [
    "bounds = np.row_stack((lb, ub))\n",
    "bounds = np.transpose(bounds)"
   ]
  },
  {
   "cell_type": "code",
   "execution_count": 111,
   "metadata": {},
   "outputs": [],
   "source": [
    "result = linprog(f, A, b, bounds = bounds)"
   ]
  },
  {
   "cell_type": "code",
   "execution_count": 118,
   "metadata": {},
   "outputs": [
    {
     "name": "stdout",
     "output_type": "stream",
     "text": [
      "The S cut includes: \n",
      "1 , 2 , 4 , 7 , 8 , 1 *, 2 *, 4 *, \n",
      "\n",
      "The T cut includes: \n",
      "3 , 5 , 6 , 9 , 10 , 11 , 12 , 3 *, 5 *, 6 *, 7 *, 8 *, 9 *, 10 *, 11 *, 12 *, "
     ]
    }
   ],
   "source": [
    "print('The S cut includes: ')\n",
    "for i in range(result.x.shape[0]):\n",
    "    if result.x[i] >= 0.5:\n",
    "        if i < vertex_num:\n",
    "            print(str(i + 1), ', ', end = '')\n",
    "        else:\n",
    "            print(str(i - vertex_num + 1), '*, ', end = '')\n",
    "print('\\n')            \n",
    "print('The T cut includes: ')\n",
    "for i in range(result.x.shape[0]):\n",
    "    if result.x[i] < 0.5:\n",
    "        if i < vertex_num:\n",
    "            print(str(i + 1), ', ', end = '')\n",
    "        else:\n",
    "            print(str(i - vertex_num + 1), '*, ', end = '')"
   ]
  },
  {
   "cell_type": "code",
   "execution_count": 133,
   "metadata": {},
   "outputs": [],
   "source": [
    "valid_S = []\n",
    "valid_T = []\n",
    "for i in range(vertex_num):\n",
    "    if result.x[i] >= 0.5 and result.x[i + vertex_num] >= 0.5:\n",
    "        valid_S.append(i)\n",
    "for i in range(vertex_num):\n",
    "    if i not in valid_S:\n",
    "        valid_T.append(i)\n",
    "\n",
    "valid_cut = 0\n",
    "for i in range(vertex_num):\n",
    "    for j in range(vertex_num):\n",
    "        if graph[i, j] != -1 and i in valid_S and j in valid_T:\n",
    "            valid_cut += graph[i, j]"
   ]
  },
  {
   "cell_type": "code",
   "execution_count": 135,
   "metadata": {
    "scrolled": true
   },
   "outputs": [
    {
     "name": "stdout",
     "output_type": "stream",
     "text": [
      "The valid S cut includes: \n",
      "1 , 2 , 4 , \n",
      "\n",
      "The valid T cut includes: \n",
      "3 , 5 , 6 , 7 , 8 , 9 , 10 , 11 , 12 , \n",
      "\n",
      "The valid cut has weight:  50.0\n"
     ]
    }
   ],
   "source": [
    "print('The valid S cut includes: ')\n",
    "for i in range(len(valid_S)):\n",
    "    print(str(valid_S[i] + 1), ', ', end = '')\n",
    "print('\\n')\n",
    "print('The valid T cut includes: ')\n",
    "for i in range(len(valid_T)):\n",
    "    print(str(valid_T[i] + 1), ', ', end = '')\n",
    "print('\\n')\n",
    "print('The valid cut has weight: ', str(valid_cut))"
   ]
  },
  {
   "cell_type": "code",
   "execution_count": 134,
   "metadata": {},
   "outputs": [
    {
     "data": {
      "text/plain": [
       "50.0"
      ]
     },
     "execution_count": 134,
     "metadata": {},
     "output_type": "execute_result"
    }
   ],
   "source": [
    "valid_cut"
   ]
  },
  {
   "cell_type": "code",
   "execution_count": null,
   "metadata": {},
   "outputs": [],
   "source": []
  }
 ],
 "metadata": {
  "kernelspec": {
   "display_name": "Python 3",
   "language": "python",
   "name": "python3"
  },
  "language_info": {
   "codemirror_mode": {
    "name": "ipython",
    "version": 3
   },
   "file_extension": ".py",
   "mimetype": "text/x-python",
   "name": "python",
   "nbconvert_exporter": "python",
   "pygments_lexer": "ipython3",
   "version": "3.6.7"
  }
 },
 "nbformat": 4,
 "nbformat_minor": 2
}
