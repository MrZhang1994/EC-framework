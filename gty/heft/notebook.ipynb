{
 "cells": [
  {
   "cell_type": "code",
   "execution_count": 1,
   "metadata": {
    "scrolled": false
   },
   "outputs": [
    {
     "name": "stderr",
     "output_type": "stream",
     "text": [
      "INFO:root:------- Tasks -------\n",
      "INFO:root: TASK id: 0, succ: [1], pred: [], avg_comp_cost: 0, ranku: 9999, rankd: 0\n",
      "INFO:root: TASK id: 1, succ: [2, 3, 8], pred: [0], avg_comp_cost: 42, ranku: 473, rankd: 0\n",
      "INFO:root: TASK id: 2, succ: [3, 4], pred: [1], avg_comp_cost: 94, ranku: 431, rankd: 42\n",
      "INFO:root: TASK id: 3, succ: [5, 6], pred: [1, 2], avg_comp_cost: 105, ranku: 221, rankd: 136\n",
      "INFO:root: TASK id: 4, succ: [7, 8], pred: [2], avg_comp_cost: 112, ranku: 337, rankd: 136\n",
      "INFO:root: TASK id: 5, succ: [9], pred: [3, 7], avg_comp_cost: 44, ranku: 116, rankd: 357\n",
      "INFO:root: TASK id: 6, succ: [12], pred: [3], avg_comp_cost: 58, ranku: 88, rankd: 241\n",
      "INFO:root: TASK id: 7, succ: [5, 10], pred: [4], avg_comp_cost: 109, ranku: 225, rankd: 248\n",
      "INFO:root: TASK id: 8, succ: [10, 11], pred: [1, 4], avg_comp_cost: 64, ranku: 162, rankd: 248\n",
      "INFO:root: TASK id: 9, succ: [12], pred: [5], avg_comp_cost: 42, ranku: 72, rankd: 401\n",
      "INFO:root: TASK id: 10, succ: [12], pred: [7, 8], avg_comp_cost: 68, ranku: 98, rankd: 357\n",
      "INFO:root: TASK id: 11, succ: [12], pred: [8], avg_comp_cost: 44, ranku: 74, rankd: 312\n",
      "INFO:root: TASK id: 12, succ: [], pred: [6, 9, 10, 11], avg_comp_cost: 30, ranku: 30, rankd: 443\n",
      "INFO:root:--------------------\n",
      "INFO:root:task scheduling order: [0, 1, 2, 4, 7, 3, 8, 5, 10, 6, 11, 9, 12]\n",
      "INFO:root:tasks on processor 0: [{0: (0, 0)}, {1: (0, 42)}, {2: (42, 136)}, {4: (136, 248)}, {7: (248, 357)}, {5: (357, 401)}, {9: (401, 443)}, {12: (443, 473)}]\n",
      "INFO:root:tasks on processor 1: [{3: (136, 241)}, {8: (248, 312)}, {10: (357, 425)}]\n",
      "INFO:root:tasks on processor 2: [{6: (241, 299)}, {11: (312, 356)}]\n",
      "INFO:root:makespan: 473\n"
     ]
    },
    {
     "name": "stdout",
     "output_type": "stream",
     "text": [
      "{1: {8, 2, 3}, 2: {3, 4}, 3: {5, 6}, 4: {8, 7}, 5: {9}, 6: {12}, 7: {10, 5}, 8: {10, 11}, 9: {12}, 10: {12}, 11: {12}, 0: set()}\n",
      "Vc:\n",
      "[12]\n"
     ]
    }
   ],
   "source": [
    "from heft import heft\n",
    "from example import dag\n",
    "from containerize import *\n",
    "import random\n",
    "\n",
    "N = 13\n",
    "processors, tasks, priority_list = heft()\n",
    "order = [t.id for t in priority_list]\n",
    "r_dag, cpath, index, cont, bridge_tasks, new_tasks, new_processors = containerize(dag, processors, tasks, 0, order)"
   ]
  },
  {
   "cell_type": "code",
   "execution_count": 2,
   "metadata": {},
   "outputs": [
    {
     "data": {
      "text/plain": [
       "[0.0, 0.0, 0.0, 116.0, 0.0, 0.0, 144.0, 0.0, 0, 0.0, 18.0, 87.0]"
      ]
     },
     "execution_count": 2,
     "metadata": {},
     "output_type": "execute_result"
    }
   ],
   "source": [
    "index"
   ]
  },
  {
   "cell_type": "code",
   "execution_count": 3,
   "metadata": {},
   "outputs": [
    {
     "data": {
      "text/plain": [
       "{0: {9, 10, 12}, 1: {3, 5, 7}, 2: {6, 8, 11}, 3: {0, 1, 2, 4}}"
      ]
     },
     "execution_count": 3,
     "metadata": {},
     "output_type": "execute_result"
    }
   ],
   "source": [
    "cont"
   ]
  },
  {
   "cell_type": "code",
   "execution_count": 4,
   "metadata": {},
   "outputs": [
    {
     "data": {
      "text/plain": [
       "[1, 2, 3, 4, 5, 6, 7, 8, 11]"
      ]
     },
     "execution_count": 4,
     "metadata": {},
     "output_type": "execute_result"
    }
   ],
   "source": [
    "bridge_tasks"
   ]
  },
  {
   "cell_type": "code",
   "execution_count": 5,
   "metadata": {},
   "outputs": [
    {
     "data": {
      "text/plain": [
       "[(0, 0, 0, 0),\n",
       " (1, 0, 46.2, 0),\n",
       " (2, 46.2, 149.60000000000002, 0),\n",
       " (3, 149.60000000000002, 265.1, 1),\n",
       " (4, 149.60000000000002, 272.80000000000007, 0),\n",
       " (5, 392.70000000000005, 441.1, 0),\n",
       " (6, 265.1, 328.90000000000003, 2),\n",
       " (7, 272.80000000000007, 392.70000000000005, 0),\n",
       " (8, 272.80000000000007, 343.20000000000005, 1),\n",
       " (9, 441.1, 483.1, 0),\n",
       " (10, 392.70000000000005, 460.70000000000005, 1),\n",
       " (11, 343.20000000000005, 391.6, 2),\n",
       " (12, 483.1, 513.1, 0)]"
      ]
     },
     "execution_count": 5,
     "metadata": {},
     "output_type": "execute_result"
    }
   ],
   "source": [
    "[(x.id, x.ast, x.aft, x.processor) for x in new_tasks]"
   ]
  },
  {
   "cell_type": "code",
   "execution_count": 6,
   "metadata": {},
   "outputs": [
    {
     "data": {
      "text/plain": [
       "[[(0, 0, 0, 0),\n",
       "  (0, 1, 0, 46.2),\n",
       "  (0, 2, 46.2, 149.60000000000002),\n",
       "  (0, 4, 149.60000000000002, 272.80000000000007),\n",
       "  (0, 7, 272.80000000000007, 392.70000000000005),\n",
       "  (0, 5, 392.70000000000005, 441.1),\n",
       "  (0, 9, 441.1, 483.1),\n",
       "  (0, 12, 483.1, 513.1)],\n",
       " [(1, 3, 149.60000000000002, 265.1),\n",
       "  (1, 8, 272.80000000000007, 343.20000000000005),\n",
       "  (1, 10, 392.70000000000005, 460.70000000000005)],\n",
       " [(2, 6, 265.1, 328.90000000000003), (2, 11, 343.20000000000005, 391.6)]]"
      ]
     },
     "execution_count": 6,
     "metadata": {},
     "output_type": "execute_result"
    }
   ],
   "source": [
    "[[(t.processor, t.id, t.ast, t.aft) for t in p.tasks] for p in new_processors]"
   ]
  }
 ],
 "metadata": {
  "kernelspec": {
   "display_name": "Python 3",
   "language": "python",
   "name": "python3"
  },
  "language_info": {
   "codemirror_mode": {
    "name": "ipython",
    "version": 3
   },
   "file_extension": ".py",
   "mimetype": "text/x-python",
   "name": "python",
   "nbconvert_exporter": "python",
   "pygments_lexer": "ipython3",
   "version": "3.6.7"
  }
 },
 "nbformat": 4,
 "nbformat_minor": 2
}
