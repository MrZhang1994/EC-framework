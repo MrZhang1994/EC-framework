{
 "cells": [
  {
   "cell_type": "code",
   "execution_count": 1,
   "metadata": {},
   "outputs": [],
   "source": [
    "from maxtopcut import *\n",
    "from minlevel import minLevel"
   ]
  },
  {
   "cell_type": "code",
   "execution_count": 3,
   "metadata": {},
   "outputs": [
    {
     "name": "stdout",
     "output_type": "stream",
     "text": [
      "The S cut includes: \n",
      "1 , 2 , 4 , 7 , 8 , 1 *, 2 *, 4 *, \n",
      "\n",
      "The T cut includes: \n",
      "3 , 5 , 6 , 9 , 10 , 11 , 12 , 3 *, 5 *, 6 *, 7 *, 8 *, 9 *, 10 *, 11 *, 12 *, The valid S cut includes: \n",
      "1 , 2 , 4 , \n",
      "\n",
      "The valid T cut includes: \n",
      "3 , 5 , 6 , 7 , 8 , 9 , 10 , 11 , 12 , \n",
      "\n",
      "The valid cut has weight:  50.0\n",
      "Edge (2, 3) is updated\n",
      "\n",
      "The S cut includes: \n",
      "1 , 2 , 3 , 4 , 7 , 8 , 1 *, 2 *, 3 *, 4 *, \n",
      "\n",
      "The T cut includes: \n",
      "5 , 6 , 9 , 10 , 11 , 12 , 5 *, 6 *, 7 *, 8 *, 9 *, 10 *, 11 *, 12 *, The valid S cut includes: \n",
      "1 , 2 , 3 , 4 , \n",
      "\n",
      "The valid T cut includes: \n",
      "5 , 6 , 7 , 8 , 9 , 10 , 11 , 12 , \n",
      "\n",
      "The valid cut has weight:  50.0\n",
      "Edge (5, 3) is updated\n",
      "\n",
      "The S cut includes: \n",
      "1 , 2 , 3 , 4 , 6 , 7 , 8 , 1 *, 2 *, 3 *, 4 *, 6 *, \n",
      "\n",
      "The T cut includes: \n",
      "5 , 9 , 10 , 11 , 12 , 5 *, 7 *, 8 *, 9 *, 10 *, 11 *, 12 *, The valid S cut includes: \n",
      "1 , 2 , 3 , 4 , 6 , \n",
      "\n",
      "The valid T cut includes: \n",
      "5 , 7 , 8 , 9 , 10 , 11 , 12 , \n",
      "\n",
      "The valid cut has weight:  40.0\n"
     ]
    }
   ],
   "source": [
    "initial_graph()\n",
    "S = []\n",
    "T = []\n",
    "S, T, cut = maxtopcut()\n",
    "M = cut * 0.8\n",
    "while cut > M:\n",
    "    u, v = minLevel(graph, S, T, 0, 11)\n",
    "    if u == 0 and v == 0:\n",
    "        print('Failed\\n')\n",
    "        break\n",
    "    update_graph(u, v)\n",
    "    S, T, cut = maxtopcut()"
   ]
  },
  {
   "cell_type": "code",
   "execution_count": null,
   "metadata": {},
   "outputs": [],
   "source": []
  },
  {
   "cell_type": "code",
   "execution_count": null,
   "metadata": {},
   "outputs": [],
   "source": []
  }
 ],
 "metadata": {
  "kernelspec": {
   "display_name": "Python 3",
   "language": "python",
   "name": "python3"
  },
  "language_info": {
   "codemirror_mode": {
    "name": "ipython",
    "version": 3
   },
   "file_extension": ".py",
   "mimetype": "text/x-python",
   "name": "python",
   "nbconvert_exporter": "python",
   "pygments_lexer": "ipython3",
   "version": "3.6.7"
  }
 },
 "nbformat": 4,
 "nbformat_minor": 2
}
